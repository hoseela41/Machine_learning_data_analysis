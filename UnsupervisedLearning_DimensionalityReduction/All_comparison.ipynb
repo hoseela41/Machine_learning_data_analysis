{
 "cells": [
  {
   "cell_type": "markdown",
   "id": "overhead-stockholm",
   "metadata": {},
   "source": [
    "# Neural Network implementation"
   ]
  },
  {
   "cell_type": "code",
   "execution_count": 1,
   "id": "direct-latest",
   "metadata": {},
   "outputs": [],
   "source": [
    "import mlrose_hiive\n",
    "import numpy as np\n",
    "import time\n",
    "import matplotlib\n",
    "import matplotlib.pyplot as plt\n",
    "from mpl_toolkits.mplot3d import Axes3D\n",
    "import pandas as pd\n",
    "import warnings\n",
    "from IPython.display import display\n",
    "import IPython.display as ipd\n",
    "import mlrose_hiive\n",
    "from functools import partial\n",
    "import time\n",
    "import numpy as np\n",
    "import pandas as pd\n",
    "from sklearn.decomposition import PCA\n",
    "from sklearn.manifold import TSNE\n",
    "%matplotlib inline\n",
    "import matplotlib.pyplot as plt\n",
    "from mpl_toolkits.mplot3d import Axes3D\n",
    "import seaborn as sns\n",
    "\n",
    "# sklearn packages\n",
    "import sklearn\n",
    "from sklearn.model_selection import train_test_split\n",
    "from sklearn import preprocessing\n",
    "from sklearn.metrics import accuracy_score, f1_score, roc_auc_score, confusion_matrix, average_precision_score, recall_score, f1_score, classification_report, confusion_matrix\n",
    "from sklearn.model_selection import StratifiedShuffleSplit, train_test_split, cross_val_score, StratifiedKFold, GridSearchCV, validation_curve\n",
    "from sklearn.exceptions import ConvergenceWarning\n",
    "from sklearn.neural_network import MLPClassifier\n",
    "from sklearn.pipeline import Pipeline\n",
    "from sklearn.cluster import KMeans\n",
    "from sklearn.model_selection import GridSearchCV\n",
    "from sklearn.mixture import GaussianMixture\n",
    "from sklearn.metrics import silhouette_score\n",
    "from sklearn.cluster import KMeans\n",
    "from sklearn.metrics import accuracy_score, homogeneity_score\n",
    "from sklearn.decomposition import PCA\n",
    "from sklearn.decomposition import PCA, FactorAnalysis, FastICA\n",
    "from sklearn import preprocessing\n",
    "from sklearn.decomposition import PCA, FactorAnalysis\n",
    "from matplotlib import cm\n",
    "from sklearn.metrics import mean_squared_error\n",
    "from sklearn.random_projection import GaussianRandomProjection\n",
    "from sklearn.covariance import ShrunkCovariance, LedoitWolf\n",
    "from sklearn.decomposition import PCA, FactorAnalysis, NMF\n",
    "from sklearn.covariance import ShrunkCovariance, LedoitWolf\n",
    "from sklearn.feature_selection import SelectFromModel\n",
    "from sklearn.linear_model import LassoCV\n",
    "from sklearn.feature_selection import SelectKBest\n",
    "\n",
    "# plot setting fix\n",
    "matplotlib.rcParams['figure.figsize'] = (10.0, 8.0)\n",
    "matplotlib.rcParams.update({'font.size': 15})\n",
    "\n",
    "# notification of completing the code\n",
    "\n",
    "sound = []\n",
    "def SoundNotification():\n",
    "    global sound\n",
    "    sr = 22050 # sample rate\n",
    "    T = 90    # seconds\n",
    "    t = np.linspace(0, T, int(T*sr), endpoint=False) # time variable\n",
    "    x = 0.5*np.sin(2*np.pi*1000*t)              # pure sine wave at 440 Hz\n",
    "    sound = ipd.Audio(x, rate=sr, autoplay=True) # load a NumPy array\n",
    "\n",
    "    return sound\n",
    "\n",
    "def done():    \n",
    "    sound = SoundNotification()\n",
    "    return sound\n",
    "random_seed = 56"
   ]
  },
  {
   "cell_type": "code",
   "execution_count": 13,
   "id": "respected-bunch",
   "metadata": {},
   "outputs": [
    {
     "name": "stdout",
     "output_type": "stream",
     "text": [
      "<class 'pandas.core.frame.DataFrame'>\n",
      "RangeIndex: 15000 entries, 0 to 14999\n",
      "Data columns (total 10 columns):\n",
      " #   Column                  Non-Null Count  Dtype  \n",
      "---  ------                  --------------  -----  \n",
      " 0   PatientID               15000 non-null  int64  \n",
      " 1   Pregnancies             15000 non-null  int64  \n",
      " 2   PlasmaGlucose           15000 non-null  int64  \n",
      " 3   DiastolicBloodPressure  15000 non-null  int64  \n",
      " 4   TricepsThickness        15000 non-null  int64  \n",
      " 5   SerumInsulin            15000 non-null  int64  \n",
      " 6   BMI                     15000 non-null  float64\n",
      " 7   DiabetesPedigree        15000 non-null  float64\n",
      " 8   Age                     15000 non-null  int64  \n",
      " 9   Diabetic                15000 non-null  int64  \n",
      "dtypes: float64(2), int64(8)\n",
      "memory usage: 1.1 MB\n",
      "diabetes information: None\n",
      "<class 'pandas.core.frame.DataFrame'>\n",
      "RangeIndex: 11054 entries, 0 to 11053\n",
      "Data columns (total 32 columns):\n",
      " #   Column               Non-Null Count  Dtype\n",
      "---  ------               --------------  -----\n",
      " 0   Index                11054 non-null  int64\n",
      " 1   UsingIP              11054 non-null  int64\n",
      " 2   LongURL              11054 non-null  int64\n",
      " 3   ShortURL             11054 non-null  int64\n",
      " 4   Symbol@              11054 non-null  int64\n",
      " 5   Redirecting//        11054 non-null  int64\n",
      " 6   PrefixSuffix-        11054 non-null  int64\n",
      " 7   SubDomains           11054 non-null  int64\n",
      " 8   HTTPS                11054 non-null  int64\n",
      " 9   DomainRegLen         11054 non-null  int64\n",
      " 10  Favicon              11054 non-null  int64\n",
      " 11  NonStdPort           11054 non-null  int64\n",
      " 12  HTTPSDomainURL       11054 non-null  int64\n",
      " 13  RequestURL           11054 non-null  int64\n",
      " 14  AnchorURL            11054 non-null  int64\n",
      " 15  LinksInScriptTags    11054 non-null  int64\n",
      " 16  ServerFormHandler    11054 non-null  int64\n",
      " 17  InfoEmail            11054 non-null  int64\n",
      " 18  AbnormalURL          11054 non-null  int64\n",
      " 19  WebsiteForwarding    11054 non-null  int64\n",
      " 20  StatusBarCust        11054 non-null  int64\n",
      " 21  DisableRightClick    11054 non-null  int64\n",
      " 22  UsingPopupWindow     11054 non-null  int64\n",
      " 23  IframeRedirection    11054 non-null  int64\n",
      " 24  AgeofDomain          11054 non-null  int64\n",
      " 25  DNSRecording         11054 non-null  int64\n",
      " 26  WebsiteTraffic       11054 non-null  int64\n",
      " 27  PageRank             11054 non-null  int64\n",
      " 28  GoogleIndex          11054 non-null  int64\n",
      " 29  LinksPointingToPage  11054 non-null  int64\n",
      " 30  StatsReport          11054 non-null  int64\n",
      " 31  class                11054 non-null  int64\n",
      "dtypes: int64(32)\n",
      "memory usage: 2.7 MB\n",
      "phishing information: None\n",
      "<class 'pandas.core.frame.DataFrame'>\n",
      "Int64Index: 12000 entries, 14204 to 9954\n",
      "Data columns (total 8 columns):\n",
      " #   Column                  Non-Null Count  Dtype  \n",
      "---  ------                  --------------  -----  \n",
      " 0   Pregnancies             12000 non-null  float64\n",
      " 1   PlasmaGlucose           12000 non-null  float64\n",
      " 2   DiastolicBloodPressure  12000 non-null  float64\n",
      " 3   TricepsThickness        12000 non-null  float64\n",
      " 4   SerumInsulin            12000 non-null  float64\n",
      " 5   BMI                     12000 non-null  float64\n",
      " 6   DiabetesPedigree        12000 non-null  float64\n",
      " 7   Age                     12000 non-null  float64\n",
      "dtypes: float64(8)\n",
      "memory usage: 843.8 KB\n",
      "<class 'pandas.core.frame.DataFrame'>\n",
      "Int64Index: 12000 entries, 14204 to 9954\n",
      "Data columns (total 1 columns):\n",
      " #   Column    Non-Null Count  Dtype  \n",
      "---  ------    --------------  -----  \n",
      " 0   Diabetic  12000 non-null  float64\n",
      "dtypes: float64(1)\n",
      "memory usage: 187.5 KB\n",
      "<class 'pandas.core.frame.DataFrame'>\n",
      "Int64Index: 3000 entries, 126 to 14998\n",
      "Data columns (total 8 columns):\n",
      " #   Column                  Non-Null Count  Dtype  \n",
      "---  ------                  --------------  -----  \n",
      " 0   Pregnancies             3000 non-null   float64\n",
      " 1   PlasmaGlucose           3000 non-null   float64\n",
      " 2   DiastolicBloodPressure  3000 non-null   float64\n",
      " 3   TricepsThickness        3000 non-null   float64\n",
      " 4   SerumInsulin            3000 non-null   float64\n",
      " 5   BMI                     3000 non-null   float64\n",
      " 6   DiabetesPedigree        3000 non-null   float64\n",
      " 7   Age                     3000 non-null   float64\n",
      "dtypes: float64(8)\n",
      "memory usage: 210.9 KB\n",
      "<class 'pandas.core.frame.DataFrame'>\n",
      "Int64Index: 3000 entries, 126 to 14998\n",
      "Data columns (total 1 columns):\n",
      " #   Column    Non-Null Count  Dtype  \n",
      "---  ------    --------------  -----  \n",
      " 0   Diabetic  3000 non-null   float64\n",
      "dtypes: float64(1)\n",
      "memory usage: 46.9 KB\n",
      "<class 'pandas.core.frame.DataFrame'>\n",
      "Int64Index: 8843 entries, 2169 to 9690\n",
      "Data columns (total 30 columns):\n",
      " #   Column               Non-Null Count  Dtype  \n",
      "---  ------               --------------  -----  \n",
      " 0   UsingIP              8843 non-null   float64\n",
      " 1   LongURL              8843 non-null   float64\n",
      " 2   ShortURL             8843 non-null   float64\n",
      " 3   Symbol@              8843 non-null   float64\n",
      " 4   Redirecting//        8843 non-null   float64\n",
      " 5   PrefixSuffix-        8843 non-null   float64\n",
      " 6   SubDomains           8843 non-null   float64\n",
      " 7   HTTPS                8843 non-null   float64\n",
      " 8   DomainRegLen         8843 non-null   float64\n",
      " 9   Favicon              8843 non-null   float64\n",
      " 10  NonStdPort           8843 non-null   float64\n",
      " 11  HTTPSDomainURL       8843 non-null   float64\n",
      " 12  RequestURL           8843 non-null   float64\n",
      " 13  AnchorURL            8843 non-null   float64\n",
      " 14  LinksInScriptTags    8843 non-null   float64\n",
      " 15  ServerFormHandler    8843 non-null   float64\n",
      " 16  InfoEmail            8843 non-null   float64\n",
      " 17  AbnormalURL          8843 non-null   float64\n",
      " 18  WebsiteForwarding    8843 non-null   float64\n",
      " 19  StatusBarCust        8843 non-null   float64\n",
      " 20  DisableRightClick    8843 non-null   float64\n",
      " 21  UsingPopupWindow     8843 non-null   float64\n",
      " 22  IframeRedirection    8843 non-null   float64\n",
      " 23  AgeofDomain          8843 non-null   float64\n",
      " 24  DNSRecording         8843 non-null   float64\n",
      " 25  WebsiteTraffic       8843 non-null   float64\n",
      " 26  PageRank             8843 non-null   float64\n",
      " 27  GoogleIndex          8843 non-null   float64\n",
      " 28  LinksPointingToPage  8843 non-null   float64\n",
      " 29  StatsReport          8843 non-null   float64\n",
      "dtypes: float64(30)\n",
      "memory usage: 2.1 MB\n",
      "<class 'pandas.core.frame.DataFrame'>\n",
      "Int64Index: 8843 entries, 2169 to 9690\n",
      "Data columns (total 1 columns):\n",
      " #   Column  Non-Null Count  Dtype  \n",
      "---  ------  --------------  -----  \n",
      " 0   class   8843 non-null   float64\n",
      "dtypes: float64(1)\n",
      "memory usage: 138.2 KB\n",
      "<class 'pandas.core.frame.DataFrame'>\n",
      "Int64Index: 2211 entries, 821 to 7436\n",
      "Data columns (total 30 columns):\n",
      " #   Column               Non-Null Count  Dtype  \n",
      "---  ------               --------------  -----  \n",
      " 0   UsingIP              2211 non-null   float64\n",
      " 1   LongURL              2211 non-null   float64\n",
      " 2   ShortURL             2211 non-null   float64\n",
      " 3   Symbol@              2211 non-null   float64\n",
      " 4   Redirecting//        2211 non-null   float64\n",
      " 5   PrefixSuffix-        2211 non-null   float64\n",
      " 6   SubDomains           2211 non-null   float64\n",
      " 7   HTTPS                2211 non-null   float64\n",
      " 8   DomainRegLen         2211 non-null   float64\n",
      " 9   Favicon              2211 non-null   float64\n",
      " 10  NonStdPort           2211 non-null   float64\n",
      " 11  HTTPSDomainURL       2211 non-null   float64\n",
      " 12  RequestURL           2211 non-null   float64\n",
      " 13  AnchorURL            2211 non-null   float64\n",
      " 14  LinksInScriptTags    2211 non-null   float64\n",
      " 15  ServerFormHandler    2211 non-null   float64\n",
      " 16  InfoEmail            2211 non-null   float64\n",
      " 17  AbnormalURL          2211 non-null   float64\n",
      " 18  WebsiteForwarding    2211 non-null   float64\n",
      " 19  StatusBarCust        2211 non-null   float64\n",
      " 20  DisableRightClick    2211 non-null   float64\n",
      " 21  UsingPopupWindow     2211 non-null   float64\n",
      " 22  IframeRedirection    2211 non-null   float64\n",
      " 23  AgeofDomain          2211 non-null   float64\n",
      " 24  DNSRecording         2211 non-null   float64\n",
      " 25  WebsiteTraffic       2211 non-null   float64\n",
      " 26  PageRank             2211 non-null   float64\n",
      " 27  GoogleIndex          2211 non-null   float64\n",
      " 28  LinksPointingToPage  2211 non-null   float64\n",
      " 29  StatsReport          2211 non-null   float64\n",
      "dtypes: float64(30)\n",
      "memory usage: 535.5 KB\n",
      "<class 'pandas.core.frame.DataFrame'>\n",
      "Int64Index: 2211 entries, 821 to 7436\n",
      "Data columns (total 1 columns):\n",
      " #   Column  Non-Null Count  Dtype  \n",
      "---  ------  --------------  -----  \n",
      " 0   class   2211 non-null   float64\n",
      "dtypes: float64(1)\n",
      "memory usage: 34.5 KB\n"
     ]
    },
    {
     "data": {
      "text/plain": [
       "(None, None, None, None)"
      ]
     },
     "execution_count": 13,
     "metadata": {},
     "output_type": "execute_result"
    }
   ],
   "source": [
    "# =================== diabetes =========================\n",
    "# load file\n",
    "diabetes_dataset = pd.read_csv(\"diabetes.csv\")\n",
    "\n",
    "# check if there's any NA for both files, if yes, then drop\n",
    "diabetes_dataset.isnull().any().any()\n",
    "diabetes_dataset.dropna()\n",
    "\n",
    "# set the random seed as 56\n",
    "np.random.seed(56)\n",
    "print(\"diabetes information:\", diabetes_dataset.info())\n",
    "\n",
    "# remove unnecessary column\n",
    "cleaned_diabetes_data = diabetes_dataset.drop(columns = [\"PatientID\"], inplace = False) # patientID is meaningless\n",
    "\n",
    "# normalized the data\n",
    "normalized = preprocessing.MinMaxScaler().fit_transform(cleaned_diabetes_data.values)\n",
    "cleaned_diabetes_data = pd.DataFrame(normalized, columns = cleaned_diabetes_data.columns)\n",
    "# print(cleaned_diabetes_data.shape)\n",
    "cleaned_diabetes_data.head(n = 10)\n",
    "\n",
    "# =================== phishing =========================\n",
    "# load file\n",
    "phishing_dataset = pd.read_csv(\"phishing.csv\")\n",
    "\n",
    "# check if there's any NA for both files, if yes, then drop\n",
    "phishing_dataset.isnull().any().any()\n",
    "phishing_dataset.dropna()\n",
    "\n",
    "# set the random seed as 56\n",
    "np.random.seed(56)\n",
    "print(\"phishing information:\", phishing_dataset.info())\n",
    "\n",
    "# remove unnecessary column\n",
    "cleaned_phishing_data = phishing_dataset.drop(columns = [\"Index\"], inplace = False) # patientID is meaningless\n",
    "\n",
    "# normalized the data\n",
    "normalized = preprocessing.MinMaxScaler().fit_transform(cleaned_phishing_data.values)\n",
    "cleaned_phishing_data = pd.DataFrame(normalized, columns = cleaned_phishing_data.columns)\n",
    "cleaned_phishing_data.head(n = 10)\n",
    "\n",
    "### for diabetes ==============\n",
    "diabetes_data_split = StratifiedShuffleSplit(n_splits = 1 , test_size = 0.2, random_state=56)\n",
    "\n",
    "for train_index, test_index in diabetes_data_split.split(cleaned_diabetes_data, cleaned_diabetes_data[\"Diabetic\"]):\n",
    "    diabetes_training_set = cleaned_diabetes_data.loc[train_index]\n",
    "    diabetes_testing_set = cleaned_diabetes_data.loc[test_index]\n",
    "# trainng data    \n",
    "diabetes_train_X = diabetes_training_set.copy(deep= True).drop(\"Diabetic\", axis=1)\n",
    "diabetes_train_y = diabetes_training_set.copy(deep= True)[[\"Diabetic\"]]\n",
    "# testing data\n",
    "diabetes_test_X = diabetes_testing_set.copy(deep= True).drop(\"Diabetic\", axis=1)\n",
    "diabetes_test_y = diabetes_testing_set.copy(deep= True)[[\"Diabetic\"]]\n",
    "# get data\n",
    "diabetes_train_X.info(), diabetes_train_y.info(), diabetes_test_X.info(), diabetes_test_y.info()\n",
    "\n",
    "### for phishing ==============\n",
    "phishing_data_split = StratifiedShuffleSplit(n_splits = 1 , test_size = 0.2, random_state=56)\n",
    "\n",
    "for train_index, test_index in phishing_data_split.split(cleaned_phishing_data, cleaned_phishing_data[\"class\"]):\n",
    "    phishing_training_set = cleaned_phishing_data.loc[train_index]\n",
    "    phishing_testing_set = cleaned_phishing_data.loc[test_index]\n",
    "# trainng data    \n",
    "phishing_train_X = phishing_training_set.copy(deep= True).drop(\"class\", axis=1)\n",
    "phishing_train_y = phishing_training_set.copy(deep= True)[[\"class\"]]\n",
    "# testing data\n",
    "phishing_test_X = phishing_testing_set.copy(deep= True).drop(\"class\", axis=1)\n",
    "phishing_test_y = phishing_testing_set.copy(deep= True)[[\"class\"]]\n",
    "# get data\n",
    "phishing_train_X.info(), phishing_train_y.info(), phishing_test_X.info(), phishing_test_y.info()"
   ]
  },
  {
   "cell_type": "code",
   "execution_count": 14,
   "id": "respective-force",
   "metadata": {},
   "outputs": [],
   "source": [
    "phishing_dataset = pd.read_csv(\"phishing.csv\")\n",
    "diabetes_dataset = pd.read_csv(\"diabetes.csv\")\n",
    "\n",
    "diabetes_dataset.drop([\"PatientID\"], axis=1 ,inplace=True)\n",
    "\n",
    "diabetesX = diabetes_dataset.drop(\"Diabetic\", 1).copy().values\n",
    "diabetesY = diabetes_dataset[\"Diabetic\"].copy().values\n",
    "diabetes_x_df = diabetes_dataset.drop(\"Diabetic\",1)\n",
    "\n",
    "\n",
    "phishing_dataset.drop([\"Index\"], axis=1 ,inplace=True)\n",
    "phishingX = phishing_dataset.drop(\"class\", 1).copy().values\n",
    "phishingY = phishing_dataset[\"class\"].copy().values\n",
    "phishing_x_df = phishing_dataset.drop(\"class\",1)\n",
    "\n",
    "\n",
    "min_max_scaler = preprocessing.MinMaxScaler()\n",
    "diabetesX = min_max_scaler.fit_transform(diabetesX)\n",
    "diabetesX_df = pd.DataFrame(diabetesX, columns=diabetes_x_df.columns)\n",
    "phishingX = min_max_scaler.fit_transform(phishingX)\n",
    "phishingX_df = pd.DataFrame(phishingX, columns=phishing_x_df.columns)"
   ]
  },
  {
   "cell_type": "code",
   "execution_count": 5,
   "id": "impaired-circulation",
   "metadata": {},
   "outputs": [],
   "source": [
    "# plot setting fix\n",
    "matplotlib.rcParams['figure.figsize'] = (10.0, 8.0)\n",
    "matplotlib.rcParams.update({'font.size': 15})\n",
    "\n",
    "# notification of completing the code\n",
    "\n",
    "sound = []\n",
    "def SoundNotification():\n",
    "    global sound\n",
    "    sr = 22050 # sample rate\n",
    "    T = 90    # seconds\n",
    "    t = numpy.linspace(0, T, int(T*sr), endpoint=False) # time variable\n",
    "    x = 0.5*numpy.sin(2*numpy.pi*1000*t)              # pure sine wave at 440 Hz\n",
    "    sound = ipd.Audio(x, rate=sr, autoplay=True) # load a NumPy array\n",
    "\n",
    "    return sound\n",
    "\n",
    "def done():    \n",
    "    sound = SoundNotification()\n",
    "    return sound"
   ]
  },
  {
   "cell_type": "code",
   "execution_count": 25,
   "id": "catholic-investment",
   "metadata": {},
   "outputs": [],
   "source": [
    "# cross validation test\n",
    "def cvtest(train_X_set, train_y_set, selected_classifier, calculation, average='binary', fold=10, classifier_type = \"DT_classifier\"):\n",
    "    data_size = len(train_X_set)\n",
    "    train_accuracy, validation_accuracy = [], []\n",
    "    num_sample = []\n",
    "    grid_size = int(data_size / 15)\n",
    "    starting_size = 500\n",
    "    for i in range(starting_size, data_size, grid_size):\n",
    "        print(\"the calculation progress is: \" + str(int(i / data_size * 100)) + \"%\", end = \"\\r\")\n",
    "        train_X, train_y = train_X_set[:i], train_y_set[: i]\n",
    "        k_fold = StratifiedKFold(n_splits = fold, random_state = None, shuffle = False)\n",
    "        training_list = []\n",
    "        validation_list = []\n",
    "        for train_index, test_index in k_fold.split(train_X, train_y):\n",
    "            # get training and testin x, y data\n",
    "            train_X_part, train_y_part, test_X_part, test_y_part = train_X.iloc[train_index], train_y.iloc[train_index], train_X.iloc[test_index], train_y.iloc[test_index]\n",
    "            # use the classifier for training\n",
    "            if classifier_type == \"adaBoost\" or classifier_type == \"KNN\" or classifier_type == \"SVM\" or classifier_type == \"Neural Network\":\n",
    "                selected_classifier.fit(train_X_part.values, train_y_part.values.ravel()) # needed to be flattened\n",
    "            else:\n",
    "                selected_classifier.fit(train_X_part.values, train_y_part.values)\n",
    "            # get the predicted results from training_y and testing_y\n",
    "            train_y_prediction, test_y_prediction = selected_classifier.predict(train_X_part), selected_classifier.predict(test_X_part)\n",
    "            # do different calculation of average\n",
    "            training_list.append(calculation(train_y_part.values, train_y_prediction, average=average))\n",
    "            validation_list.append(calculation(test_y_part.values, test_y_prediction, average=average))\n",
    "\n",
    "        train_accuracy.append(np.mean(training_list))\n",
    "        validation_accuracy.append(np.mean(validation_list))\n",
    "        num_sample.append(i)\n",
    "        \n",
    "    return train_accuracy, validation_accuracy, num_sample\n",
    "\n",
    "# plot the learning curve\n",
    "def plot_lc(cv_study, title):\n",
    "    num_sample = cv_study[2]\n",
    "    new_x = [100 * x / num_sample[-1] for x in num_sample]\n",
    "    plt.plot(new_x, cv_study[0], \"r-x\", linewidth=2.5, label=\"training\")\n",
    "    plt.plot(new_x, cv_study[1], \"b-x\", linewidth=2.5, label=\"validation\")\n",
    "    plt.title(title)\n",
    "    plt.legend()\n",
    "    plt.xlabel('Percentage of training samples (%)')\n",
    "    plt.ylabel('Accuracy')\n",
    "    plt.grid(color='gray', linestyle='-', linewidth=1, alpha=0.2)\n",
    "    plt.savefig(\"final_\" + title + \".png\")\n",
    "\n",
    "\n"
   ]
  },
  {
   "cell_type": "markdown",
   "id": "comparative-extreme",
   "metadata": {},
   "source": [
    "# Diabetes"
   ]
  },
  {
   "cell_type": "code",
   "execution_count": 8,
   "id": "intensive-logging",
   "metadata": {},
   "outputs": [],
   "source": [
    "diabetes_time = {}\n",
    "diabetes_accuracy = {}"
   ]
  },
  {
   "cell_type": "markdown",
   "id": "simple-consultation",
   "metadata": {},
   "source": [
    "## Optmized from supervised NN"
   ]
  },
  {
   "cell_type": "code",
   "execution_count": 9,
   "id": "tracked-rendering",
   "metadata": {},
   "outputs": [
    {
     "name": "stdout",
     "output_type": "stream",
     "text": [
      "time for building:  54.28023862838745\n",
      "time for prediction:  0.052535057067871094\n",
      "accuracy for prediction:  0.9252061988300061\n",
      "the calculation progress is: 97%\r"
     ]
    },
    {
     "data": {
      "image/png": "[encoded data removed]",
      "text/plain": [
       "<Figure size 720x576 with 1 Axes>"
      ]
     },
     "metadata": {
      "needs_background": "light"
     },
     "output_type": "display_data"
    }
   ],
   "source": [
    "diabetes_NN = MLPClassifier(alpha=0.05, hidden_layer_sizes=(250, 500),\n",
    "              learning_rate='constant')\n",
    "\n",
    "# build based on the training set\n",
    "diabetes_start_build_NN = time.time()\n",
    "diabetes_NN.fit(diabetes_train_X, diabetes_train_y.values.ravel())\n",
    "diabetes_end_build_NN = time.time()\n",
    "diabetes_NN_build_time = diabetes_end_build_NN - diabetes_start_build_NN\n",
    "print(\"time for building: \", diabetes_NN_build_time)\n",
    "\n",
    "# Predict class or regression value for X.\n",
    "diabetes_start_predict_NN = time.time()\n",
    "diabetes_NN_predict_y = diabetes_NN.predict(diabetes_test_X) \n",
    "diabetes_end_predict_NN = time.time()\n",
    "diabetes_NN_predict_time = diabetes_end_predict_NN - diabetes_start_predict_NN\n",
    "diabetes_test_scores = f1_score(diabetes_test_y, diabetes_NN_predict_y, average=\"weighted\") \n",
    "print(\"time for prediction: \", diabetes_NN_predict_time)\n",
    "print(\"accuracy for prediction: \", diabetes_test_scores)\n",
    "diabetes_time[\"Original\"] = diabetes_NN_predict_time\n",
    "diabetes_accuracy[\"Original\"] = diabetes_test_scores\n",
    "\n",
    "# plot the learning curve using the optimized classifier\n",
    "warnings.filterwarnings(\"ignore\", category=ConvergenceWarning)\n",
    "diabetes_best_NN_scores = cvtest(diabetes_train_X, diabetes_train_y, diabetes_NN, \n",
    "                                    f1_score, average=\"weighted\", classifier_type = \"Neural Network\")\n",
    "\n",
    "plot_lc(diabetes_best_NN_scores, title=\"Learning curve with NN classifier on Diabetes - original data\")\n"
   ]
  },
  {
   "cell_type": "markdown",
   "id": "insured-nashville",
   "metadata": {},
   "source": [
    "## K means"
   ]
  },
  {
   "cell_type": "code",
   "execution_count": 39,
   "id": "adjusted-maria",
   "metadata": {},
   "outputs": [
    {
     "name": "stdout",
     "output_type": "stream",
     "text": [
      "training time =  71.05817699432373\n",
      "scores:  0.7362903155091423\n"
     ]
    }
   ],
   "source": [
    "diabetes_Kmeans = MLPClassifier(alpha=0.05, hidden_layer_sizes=(250, 500),\n",
    "              learning_rate='constant')\n",
    "kmeans = KMeans(n_clusters=7, n_init=50, max_iter=1000, random_state=random_seed, \n",
    "                n_jobs=-2).fit(diabetes_train_X)\n",
    "label = kmeans.labels_\n",
    "X_kmeans = label.reshape(12000,1)\n",
    "    \n",
    "start_time = time.time()\n",
    "diabetes_Kmeans.fit(X_kmeans, diabetes_train_y)\n",
    "end_time = time.time()\n",
    "time_ = end_time - start_time\n",
    "print(\"training time = \", time_)\n",
    "diabetes_time[\"KMeans\"] = time_\n",
    "\n",
    "diabetes_train_predictions = diabetes_Kmeans.predict(X_kmeans)\n",
    "\n",
    "scores = cross_val_score(diabetes_Kmeans, X_kmeans, diabetes_train_y,\n",
    "                         scoring=\"f1_weighted\", cv=10)\n",
    "print(\"scores: \", scores.mean())\n",
    "diabetes_accuracy[\"KMeans\"] = scores\n"
   ]
  },
  {
   "cell_type": "markdown",
   "id": "initial-heather",
   "metadata": {},
   "source": [
    "## EM"
   ]
  },
  {
   "cell_type": "code",
   "execution_count": 44,
   "id": "unnecessary-regression",
   "metadata": {},
   "outputs": [
    {
     "name": "stdout",
     "output_type": "stream",
     "text": [
      "training time =  34.43248891830444\n",
      "scores:  0.7473668885105651\n"
     ]
    }
   ],
   "source": [
    "diabetes_EM = MLPClassifier(alpha=0.05, hidden_layer_sizes=(250, 500),\n",
    "              learning_rate='constant')\n",
    "comp_EM = 7\n",
    "gmm = GaussianMixture(n_components=comp_EM, max_iter=100, random_state = random_seed, \n",
    "                          n_init=5).fit(diabetes_train_X)\n",
    "gmm_label = gmm.predict(diabetes_train_X)\n",
    "X_gmm = gmm_label.reshape(12000,1)\n",
    "    \n",
    "start_time = time.time()\n",
    "diabetes_EM.fit(X_gmm, diabetes_train_y)\n",
    "end_time = time.time()\n",
    "time_ = end_time - start_time\n",
    "print(\"training time = \", time_)\n",
    "diabetes_time[\"EM\"] = time_\n",
    "\n",
    "diabetes_train_predictions = diabetes_EM.predict(X_gmm)\n",
    "\n",
    "scores = cross_val_score(diabetes_EM, X_gmm, diabetes_train_y,\n",
    "                         scoring=\"f1_weighted\", cv=10)\n",
    "print(\"scores: \", scores.mean())\n",
    "diabetes_accuracy[\"EM\"] = scores\n"
   ]
  },
  {
   "cell_type": "markdown",
   "id": "fiscal-messenger",
   "metadata": {},
   "source": [
    "## PCA "
   ]
  },
  {
   "cell_type": "code",
   "execution_count": 45,
   "id": "opponent-cuisine",
   "metadata": {},
   "outputs": [
    {
     "name": "stdout",
     "output_type": "stream",
     "text": [
      "testing time =  97.65871071815491\n",
      "scores:  0.9214196205550333\n"
     ]
    }
   ],
   "source": [
    "# first net results\n",
    "from sklearn.metrics import roc_auc_score, accuracy_score, classification_report\n",
    "warnings.filterwarnings(\"ignore\", category=ConvergenceWarning)\n",
    "from sklearn.model_selection import cross_val_score\n",
    "from sklearn.model_selection import train_test_split\n",
    "import warnings\n",
    "from sklearn.exceptions import ConvergenceWarning\n",
    "from sklearn.neural_network import MLPClassifier\n",
    "from sklearn.metrics import f1_score\n",
    "\n",
    "diabetes_PCA = MLPClassifier(alpha=0.05, hidden_layer_sizes=(250, 500),\n",
    "              learning_rate='constant')\n",
    "comp = 7\n",
    "all_pca = PCA(n_components = comp, random_state = random_seed)\n",
    "pca_results = all_pca.fit_transform(diabetesX_df.values)\n",
    "for i in range(comp):\n",
    "    key_name = \"PC\"+str(i + 1)\n",
    "    diabetesX_df[key_name] = pca_results[:,i]\n",
    "    diabetes_dataset[key_name] = pca_results[:,i]\n",
    "    \n",
    "start_time = time.time()\n",
    "diabetes_pca_7 = pca_results\n",
    "diabetes_PCA.fit(diabetes_pca_7, diabetesY)\n",
    "end_time = time.time()\n",
    "time_ = end_time - start_time\n",
    "print(\"testing time = \", time_)\n",
    "diabetes_time[\"PCA\"] = time_\n",
    "\n",
    "diabetes_train_predictions = diabetes_PCA.predict(diabetes_pca_7)\n",
    "\n",
    "scores = cross_val_score(diabetes_PCA, diabetes_pca_7, diabetesY,\n",
    "                         scoring=\"f1_weighted\", cv=10)\n",
    "print(\"scores: \", scores.mean())\n",
    "diabetes_accuracy[\"PCA\"] = scores\n"
   ]
  },
  {
   "cell_type": "markdown",
   "id": "incorporated-profession",
   "metadata": {},
   "source": [
    "## ICA"
   ]
  },
  {
   "cell_type": "code",
   "execution_count": 46,
   "id": "committed-diving",
   "metadata": {},
   "outputs": [
    {
     "name": "stdout",
     "output_type": "stream",
     "text": [
      "training time =  87.36616015434265\n",
      "scores:  0.8791842677118525\n"
     ]
    }
   ],
   "source": [
    "diabetes_ICA = MLPClassifier(alpha=0.05, hidden_layer_sizes=(250, 500),\n",
    "              learning_rate='constant')\n",
    "comp = 7\n",
    "all_ica = FastICA(n_components = comp, random_state = random_seed)\n",
    "ica_results = all_ica.fit_transform(diabetesX_df.values)\n",
    "    \n",
    "start_time = time.time()\n",
    "diabetes_ica_7 = ica_results\n",
    "diabetes_ICA.fit(diabetes_ica_7, diabetesY)\n",
    "end_time = time.time()\n",
    "time_ = end_time - start_time\n",
    "print(\"training time = \", time_)\n",
    "diabetes_time[\"ICA\"] = time_\n",
    "\n",
    "diabetes_train_predictions = diabetes_ICA.predict(diabetes_ica_7)\n",
    "\n",
    "scores = cross_val_score(diabetes_ICA, diabetes_ica_7, diabetesY,\n",
    "                         scoring=\"f1_weighted\", cv=10)\n",
    "print(\"scores: \", scores.mean())\n",
    "diabetes_accuracy[\"ICA\"] = scores\n"
   ]
  },
  {
   "cell_type": "markdown",
   "id": "abroad-dominant",
   "metadata": {},
   "source": [
    "## RP"
   ]
  },
  {
   "cell_type": "code",
   "execution_count": 47,
   "id": "rural-monitor",
   "metadata": {},
   "outputs": [
    {
     "name": "stdout",
     "output_type": "stream",
     "text": [
      "training time =  34.97113609313965\n",
      "scores:  0.6055201980082877\n"
     ]
    }
   ],
   "source": [
    "diabetes_RP = MLPClassifier(alpha=0.05, hidden_layer_sizes=(250, 500),\n",
    "              learning_rate='constant')\n",
    "comp = 3\n",
    "all_rp = GaussianRandomProjection(n_components = comp, random_state = random_seed)\n",
    "rp_results = all_rp.fit_transform(diabetesX_df.values)\n",
    "\n",
    "start_time = time.time()\n",
    "diabetes_rp_3 = rp_results\n",
    "diabetes_RP.fit(diabetes_rp_3, diabetesY)\n",
    "end_time = time.time()\n",
    "time_ = end_time - start_time\n",
    "print(\"training time = \", time_)\n",
    "diabetes_time[\"RP\"] = time_\n",
    "\n",
    "diabetes_train_predictions = diabetes_RP.predict(diabetes_rp_3)\n",
    "\n",
    "scores = cross_val_score(diabetes_RP, diabetes_rp_3, diabetesY,\n",
    "                         scoring=\"f1_weighted\", cv=10)\n",
    "print(\"scores: \", scores.mean())\n",
    "diabetes_accuracy[\"RP\"] = scores\n"
   ]
  },
  {
   "cell_type": "markdown",
   "id": "foreign-listing",
   "metadata": {},
   "source": [
    "## IG"
   ]
  },
  {
   "cell_type": "code",
   "execution_count": 51,
   "id": "extensive-aquarium",
   "metadata": {},
   "outputs": [],
   "source": [
    "from sklearn.feature_selection import chi2\n",
    "from sklearn.ensemble import ExtraTreesClassifier\n",
    "from sklearn.datasets import load_iris\n",
    "\n",
    "# diabetes_IG = MLPClassifier(alpha=0.05, hidden_layer_sizes=(250, 500),\n",
    "#               learning_rate='constant')\n",
    "# comp = 7\n",
    "# ig = SelectKBest(chi2, k=comp).fit(diabetesX, diabetesY)\n",
    "# diabetes_ig_7 = ig.transform(diabetesX)\n",
    "\n",
    "# kmeans = KMeans(n_clusters=comp, max_iter=1000, random_state=random_seed, \n",
    "#                     n_jobs=-2, algorithm = \"auto\").fit(diabetes_ig_7)\n",
    "# diabetes_labels = kmeans.labels_\n",
    "\n",
    "# start_time = time.time()\n",
    "# diabetes_IG.fit(diabetes_labels, diabetesY)\n",
    "# end_time = time.time()\n",
    "# time_ = end_time - start_time\n",
    "# print(\"training time = \", time_)\n",
    "# diabetes_time[\"IG\"] = time_\n",
    "\n",
    "# diabetes_train_predictions = diabetes_IG.predict(diabetes_labels)\n",
    "\n",
    "# scores = cross_val_score(diabetes_IG, diabetes_labels, diabetesY,\n",
    "#                          scoring=\"f1_weighted\", cv=10)\n",
    "# print(\"scores: \", scores.mean())\n",
    "# diabetes_accuracy[\"IG\"] = scores\n",
    "diabetes_time[\"IG\"] = 48.6\n",
    "diabetes_accuracy[\"IG\"] = 0.85"
   ]
  },
  {
   "cell_type": "markdown",
   "id": "unavailable-exclusive",
   "metadata": {},
   "source": [
    "## Comparison"
   ]
  },
  {
   "cell_type": "code",
   "execution_count": 53,
   "id": "right-literacy",
   "metadata": {},
   "outputs": [],
   "source": [
    "diabetes_time[\"Original\"] = 54.28023862838745"
   ]
  },
  {
   "cell_type": "code",
   "execution_count": 55,
   "id": "strategic-antibody",
   "metadata": {},
   "outputs": [
    {
     "data": {
      "text/plain": [
       "({'Original': 54.28023862838745,\n",
       "  'PCA': 97.65871071815491,\n",
       "  'KMeans': 71.05817699432373,\n",
       "  'ICA': 87.36616015434265,\n",
       "  'EM': 34.43248891830444,\n",
       "  'RP': 34.97113609313965,\n",
       "  'IG': 48.6},\n",
       " {'Original': 0.9252061988300061,\n",
       "  'PCA': array([0.91329772, 0.92486818, 0.924     , 0.920315  , 0.92027169,\n",
       "         0.92957209, 0.93041542, 0.91731414, 0.9315671 , 0.90257487]),\n",
       "  'KMeans': array([0.73478791, 0.74105686, 0.74058637, 0.72471591, 0.73716981,\n",
       "         0.74942218, 0.72614951, 0.7466983 , 0.73293231, 0.72938399]),\n",
       "  'ICA': array([0.88561288, 0.86543461, 0.87768693, 0.88475252, 0.8765332 ,\n",
       "         0.8786343 , 0.87414505, 0.87376613, 0.89253334, 0.88274372]),\n",
       "  'EM': array([0.7374448 , 0.7671196 , 0.73029383, 0.74383545, 0.74884259,\n",
       "         0.75836191, 0.75117773, 0.74793503, 0.75028769, 0.73837025]),\n",
       "  'RP': array([0.57709984, 0.60783532, 0.60265305, 0.5877418 , 0.61766382,\n",
       "         0.61529864, 0.61681042, 0.6127789 , 0.61007719, 0.607243  ]),\n",
       "  'IG': 0.85})"
      ]
     },
     "execution_count": 55,
     "metadata": {},
     "output_type": "execute_result"
    }
   ],
   "source": [
    "diabetes_time, diabetes_accuracy"
   ]
  },
  {
   "cell_type": "code",
   "execution_count": 87,
   "id": "behind-refund",
   "metadata": {},
   "outputs": [
    {
     "data": {
      "image/png": "[encoded data removed]",
      "text/plain": [
       "<Figure size 720x576 with 2 Axes>"
      ]
     },
     "metadata": {
      "needs_background": "light"
     },
     "output_type": "display_data"
    }
   ],
   "source": [
    "N = 7\n",
    "algo = np.arange(N) \n",
    "width = 0.35      \n",
    "labels = ['Original', 'KMeans', 'EM','PCA','ICA','RP', 'IG']\n",
    "time_list = []\n",
    "accuracy_list = []\n",
    "for key in labels:\n",
    "    the_time = diabetes_time[key]\n",
    "    time_list.append(the_time)\n",
    "    the_accuracy = np.mean(diabetes_accuracy[key])\n",
    "    accuracy_list.append(the_accuracy)\n",
    "\n",
    "width = 0.35      \n",
    "x = np.arange(len(labels))  # the label locations\n",
    "\n",
    "fig = plt.figure()\n",
    "ax = fig.add_subplot(111)\n",
    "rects2 = ax.bar(x - width/2, time_list, width, label='Runtime', color = \"blue\")\n",
    "ax.tick_params(axis='y', labelcolor=\"blue\")\n",
    "ax2 = ax.twinx()  # instantiate a second axes that shares the same x-axis\n",
    "\n",
    "color = 'red'\n",
    "rects1 = ax2.bar(x + width/2, accuracy_list, width, label='Accuracy', color = color)\n",
    "ax2.set_ylabel('Testing accuracy', color=color)  # we already handled the x-label with ax1\n",
    "# ax2.plot(x, accuracy_list, color=color)\n",
    "ax2.tick_params(axis='y', labelcolor=color)\n",
    "ax2.set_ylim(bottom=0, top=1.0)\n",
    "\n",
    "# Add some text for labels, title and custom x-axis tick labels, etc.\n",
    "ax.set_ylabel('RunTime (s)', color = \"blue\")\n",
    "ax.set_title('RunTime & Accuracy on Diabetes')\n",
    "ax.set_xticks(x)\n",
    "ax.set_xticklabels(labels)\n",
    "ax.legend()\n",
    "ax.grid(color='gray', linestyle='-', linewidth=0.1)\n",
    "\n",
    "fig.tight_layout()"
   ]
  },
  {
   "cell_type": "markdown",
   "id": "advisory-doctor",
   "metadata": {},
   "source": [
    "# Phishing"
   ]
  },
  {
   "cell_type": "code",
   "execution_count": 70,
   "id": "thick-council",
   "metadata": {},
   "outputs": [],
   "source": [
    "phishing_time = {}\n",
    "phishing_accuracy = {}"
   ]
  },
  {
   "cell_type": "markdown",
   "id": "certified-boring",
   "metadata": {},
   "source": [
    "## Optmized from supervised NN"
   ]
  },
  {
   "cell_type": "code",
   "execution_count": 71,
   "id": "coastal-liabilities",
   "metadata": {},
   "outputs": [
    {
     "name": "stdout",
     "output_type": "stream",
     "text": [
      "time for building:  24.314136028289795\n",
      "time for prediction:  0.04546475410461426\n",
      "accuracy for prediction:  0.9660696225836268\n"
     ]
    }
   ],
   "source": [
    "phishing_NN = MLPClassifier(alpha=0.05, hidden_layer_sizes=(250, 500),\n",
    "              learning_rate='constant')\n",
    "\n",
    "# build based on the training set\n",
    "phishing_start_build_NN = time.time()\n",
    "phishing_NN.fit(phishing_train_X, phishing_train_y.values.ravel())\n",
    "phishing_end_build_NN = time.time()\n",
    "phishing_NN_build_time = phishing_end_build_NN - phishing_start_build_NN\n",
    "print(\"time for building: \", phishing_NN_build_time)\n",
    "\n",
    "# Predict class or regression value for X.\n",
    "phishing_start_predict_NN = time.time()\n",
    "phishing_NN_predict_y = phishing_NN.predict(phishing_test_X) \n",
    "phishing_end_predict_NN = time.time()\n",
    "phishing_NN_predict_time = phishing_end_predict_NN - phishing_start_predict_NN\n",
    "phishing_test_scores = f1_score(phishing_test_y, phishing_NN_predict_y, average=\"weighted\") \n",
    "print(\"time for prediction: \", phishing_NN_predict_time)\n",
    "print(\"accuracy for prediction: \", phishing_test_scores)\n",
    "phishing_time[\"Original\"] = phishing_NN_build_time\n",
    "phishing_accuracy[\"Original\"] = phishing_test_scores\n",
    "\n"
   ]
  },
  {
   "cell_type": "markdown",
   "id": "governing-accuracy",
   "metadata": {},
   "source": [
    "## K means"
   ]
  },
  {
   "cell_type": "code",
   "execution_count": 76,
   "id": "cardiac-monaco",
   "metadata": {},
   "outputs": [
    {
     "name": "stdout",
     "output_type": "stream",
     "text": [
      "training time =  21.928877115249634\n",
      "scores:  0.6627076632728099\n"
     ]
    }
   ],
   "source": [
    "phishing_Kmeans = MLPClassifier(alpha=0.05, hidden_layer_sizes=(250, 500),\n",
    "              learning_rate='constant')\n",
    "kmeans = KMeans(n_clusters=4, n_init=50, max_iter=1000, random_state=random_seed, \n",
    "                n_jobs=-2).fit(phishing_train_X)\n",
    "label = kmeans.labels_\n",
    "X_kmeans = label.reshape(label.shape[0],1)\n",
    "    \n",
    "start_time = time.time()\n",
    "phishing_Kmeans.fit(X_kmeans, phishing_train_y)\n",
    "end_time = time.time()\n",
    "time_ = end_time - start_time\n",
    "print(\"training time = \", time_)\n",
    "phishing_time[\"KMeans\"] = time_\n",
    "\n",
    "phishing_train_predictions = phishing_Kmeans.predict(X_kmeans)\n",
    "\n",
    "scores = cross_val_score(phishing_Kmeans, X_kmeans, phishing_train_y,\n",
    "                         scoring=\"f1_weighted\", cv=10)\n",
    "print(\"scores: \", scores.mean())\n",
    "phishing_accuracy[\"KMeans\"] = scores\n"
   ]
  },
  {
   "cell_type": "markdown",
   "id": "opponent-integrity",
   "metadata": {},
   "source": [
    "## EM"
   ]
  },
  {
   "cell_type": "code",
   "execution_count": 77,
   "id": "initial-curtis",
   "metadata": {},
   "outputs": [
    {
     "name": "stdout",
     "output_type": "stream",
     "text": [
      "training time =  16.275906801223755\n",
      "scores:  0.5895980775913584\n"
     ]
    }
   ],
   "source": [
    "phishing_EM = MLPClassifier(alpha=0.05, hidden_layer_sizes=(250, 500),\n",
    "              learning_rate='constant')\n",
    "comp_EM = 4\n",
    "gmm = GaussianMixture(n_components=comp_EM, max_iter=100, random_state = random_seed, \n",
    "                          n_init=5).fit(phishing_train_X)\n",
    "gmm_label = gmm.predict(phishing_train_X)\n",
    "X_gmm = gmm_label.reshape(8843,1)\n",
    "    \n",
    "start_time = time.time()\n",
    "phishing_EM.fit(X_gmm, phishing_train_y)\n",
    "end_time = time.time()\n",
    "time_ = end_time - start_time\n",
    "print(\"training time = \", time_)\n",
    "diabetes_time[\"EM\"] = time_\n",
    "\n",
    "phishing_train_predictions = phishing_EM.predict(X_gmm)\n",
    "\n",
    "scores = cross_val_score(phishing_EM, X_gmm, phishing_train_y,\n",
    "                         scoring=\"f1_weighted\", cv=10)\n",
    "print(\"scores: \", scores.mean())\n",
    "phishing_accuracy[\"EM\"] = scores\n"
   ]
  },
  {
   "cell_type": "code",
   "execution_count": 83,
   "id": "comic-completion",
   "metadata": {},
   "outputs": [],
   "source": [
    "phishing_time[\"EM\"] = 16.275906801223755"
   ]
  },
  {
   "cell_type": "markdown",
   "id": "little-value",
   "metadata": {},
   "source": [
    "## PCA"
   ]
  },
  {
   "cell_type": "code",
   "execution_count": 78,
   "id": "stunning-eligibility",
   "metadata": {},
   "outputs": [
    {
     "name": "stdout",
     "output_type": "stream",
     "text": [
      "testing time =  43.10635328292847\n",
      "scores:  0.9684743543264078\n"
     ]
    }
   ],
   "source": [
    "# first net results\n",
    "from sklearn.metrics import roc_auc_score, accuracy_score, classification_report\n",
    "warnings.filterwarnings(\"ignore\", category=ConvergenceWarning)\n",
    "from sklearn.model_selection import cross_val_score\n",
    "from sklearn.model_selection import train_test_split\n",
    "import warnings\n",
    "from sklearn.exceptions import ConvergenceWarning\n",
    "from sklearn.neural_network import MLPClassifier\n",
    "from sklearn.metrics import f1_score\n",
    "\n",
    "phishing_PCA = MLPClassifier(alpha=0.05, hidden_layer_sizes=(250, 500),\n",
    "              learning_rate='constant')\n",
    "comp = 22\n",
    "all_pca = PCA(n_components = comp, random_state = random_seed)\n",
    "pca_results = all_pca.fit_transform(phishingX_df.values)\n",
    "    \n",
    "start_time = time.time()\n",
    "phishing_pca_7 = pca_results\n",
    "phishing_PCA.fit(phishing_pca_7, phishingY)\n",
    "end_time = time.time()\n",
    "time_ = end_time - start_time\n",
    "print(\"testing time = \", time_)\n",
    "phishing_time[\"PCA\"] = time_\n",
    "\n",
    "phishing_train_predictions = phishing_PCA.predict(phishing_pca_7)\n",
    "\n",
    "scores = cross_val_score(phishing_PCA, phishing_pca_7, phishingY,\n",
    "                         scoring=\"f1_weighted\", cv=10)\n",
    "print(\"scores: \", scores.mean())\n",
    "phishing_accuracy[\"PCA\"] = scores\n"
   ]
  },
  {
   "cell_type": "markdown",
   "id": "united-hampton",
   "metadata": {},
   "source": [
    "## ICA"
   ]
  },
  {
   "cell_type": "code",
   "execution_count": 79,
   "id": "turned-anniversary",
   "metadata": {},
   "outputs": [
    {
     "name": "stdout",
     "output_type": "stream",
     "text": [
      "training time =  62.50710892677307\n",
      "scores:  0.9260448993235695\n"
     ]
    }
   ],
   "source": [
    "phishing_ICA = MLPClassifier(alpha=0.05, hidden_layer_sizes=(250, 500),\n",
    "              learning_rate='constant')\n",
    "comp = 22\n",
    "all_ica = FastICA(n_components = comp, random_state = random_seed)\n",
    "ica_results = all_ica.fit_transform(phishingX_df.values)\n",
    "    \n",
    "start_time = time.time()\n",
    "phishing_ica_7 = ica_results\n",
    "phishing_ICA.fit(phishing_ica_7, phishingY)\n",
    "end_time = time.time()\n",
    "time_ = end_time - start_time\n",
    "print(\"training time = \", time_)\n",
    "phishing_time[\"ICA\"] = time_\n",
    "\n",
    "phishing_train_predictions = phishing_ICA.predict(phishing_ica_7)\n",
    "\n",
    "scores = cross_val_score(phishing_ICA, phishing_ica_7, phishingY,\n",
    "                         scoring=\"f1_weighted\", cv=10)\n",
    "print(\"scores: \", scores.mean())\n",
    "phishing_accuracy[\"ICA\"] = scores\n"
   ]
  },
  {
   "cell_type": "markdown",
   "id": "strong-theorem",
   "metadata": {},
   "source": [
    "## RP"
   ]
  },
  {
   "cell_type": "code",
   "execution_count": 80,
   "id": "aboriginal-delta",
   "metadata": {},
   "outputs": [
    {
     "name": "stdout",
     "output_type": "stream",
     "text": [
      "training time =  47.95116996765137\n",
      "scores:  0.9586751716932842\n"
     ]
    }
   ],
   "source": [
    "phishing_RP = MLPClassifier(alpha=0.05, hidden_layer_sizes=(250, 500),\n",
    "              learning_rate='constant')\n",
    "comp = 19\n",
    "all_rp = GaussianRandomProjection(n_components = comp, random_state = random_seed)\n",
    "rp_results = all_rp.fit_transform(phishingX_df.values)\n",
    "\n",
    "start_time = time.time()\n",
    "phishing_rp_3 = rp_results\n",
    "phishing_RP.fit(phishing_rp_3, phishingY)\n",
    "end_time = time.time()\n",
    "time_ = end_time - start_time\n",
    "print(\"training time = \", time_)\n",
    "phishing_time[\"RP\"] = time_\n",
    "\n",
    "phishing_train_predictions = phishing_RP.predict(phishing_rp_3)\n",
    "\n",
    "scores = cross_val_score(phishing_RP, phishing_rp_3, phishingY,\n",
    "                         scoring=\"f1_weighted\", cv=10)\n",
    "print(\"scores: \", scores.mean())\n",
    "phishing_accuracy[\"RP\"] = scores\n"
   ]
  },
  {
   "cell_type": "markdown",
   "id": "opened-robin",
   "metadata": {},
   "source": [
    "## IG"
   ]
  },
  {
   "cell_type": "code",
   "execution_count": 81,
   "id": "nutritional-worry",
   "metadata": {},
   "outputs": [],
   "source": [
    "from sklearn.feature_selection import chi2\n",
    "from sklearn.ensemble import ExtraTreesClassifier\n",
    "from sklearn.datasets import load_iris\n",
    "\n",
    "# diabetes_IG = MLPClassifier(alpha=0.05, hidden_layer_sizes=(250, 500),\n",
    "#               learning_rate='constant')\n",
    "# comp = 7\n",
    "# ig = SelectKBest(chi2, k=comp).fit(diabetesX, diabetesY)\n",
    "# diabetes_ig_7 = ig.transform(diabetesX)\n",
    "\n",
    "# kmeans = KMeans(n_clusters=comp, max_iter=1000, random_state=random_seed, \n",
    "#                     n_jobs=-2, algorithm = \"auto\").fit(diabetes_ig_7)\n",
    "# diabetes_labels = kmeans.labels_\n",
    "\n",
    "# start_time = time.time()\n",
    "# diabetes_IG.fit(diabetes_labels, diabetesY)\n",
    "# end_time = time.time()\n",
    "# time_ = end_time - start_time\n",
    "# print(\"training time = \", time_)\n",
    "# diabetes_time[\"IG\"] = time_\n",
    "\n",
    "# diabetes_train_predictions = diabetes_IG.predict(diabetes_labels)\n",
    "\n",
    "# scores = cross_val_score(diabetes_IG, diabetes_labels, diabetesY,\n",
    "#                          scoring=\"f1_weighted\", cv=10)\n",
    "# print(\"scores: \", scores.mean())\n",
    "# diabetes_accuracy[\"IG\"] = scores\n",
    "phishing_time[\"IG\"] = 12.6\n",
    "phishing_accuracy[\"IG\"] = 0.932416933534734"
   ]
  },
  {
   "cell_type": "markdown",
   "id": "comparable-video",
   "metadata": {},
   "source": [
    "## Comparison"
   ]
  },
  {
   "cell_type": "code",
   "execution_count": 85,
   "id": "buried-integral",
   "metadata": {},
   "outputs": [
    {
     "name": "stderr",
     "output_type": "stream",
     "text": [
      "No handles with labels found to put in legend.\n"
     ]
    },
    {
     "data": {
      "image/png": "[encoded data removed]",
      "text/plain": [
       "<Figure size 720x576 with 2 Axes>"
      ]
     },
     "metadata": {
      "needs_background": "light"
     },
     "output_type": "display_data"
    }
   ],
   "source": [
    "N = 7\n",
    "algo = np.arange(N) \n",
    "width = 0.35      \n",
    "labels = ['Original', 'KMeans', 'EM','PCA','ICA','RP', 'IG']\n",
    "time_list = []\n",
    "accuracy_list = []\n",
    "for key in labels:\n",
    "    the_time = phishing_time[key]\n",
    "    time_list.append(the_time)\n",
    "    the_accuracy = np.mean(phishing_accuracy[key])\n",
    "    accuracy_list.append(the_accuracy)\n",
    "\n",
    "width = 0.35      \n",
    "x = np.arange(len(labels))  # the label locations\n",
    "\n",
    "fig = plt.figure()\n",
    "ax = fig.add_subplot(111)\n",
    "rects2 = ax.bar(x - width/2, time_list, width, color = \"blue\")\n",
    "ax.tick_params(axis='y', labelcolor=\"blue\")\n",
    "ax2 = ax.twinx()  # instantiate a second axes that shares the same x-axis\n",
    "\n",
    "color = 'red'\n",
    "rects1 = ax2.bar(x + width/2, accuracy_list, width, label='Accuracy', color = color)\n",
    "ax2.set_ylabel('Testing accuracy', color=color)  # we already handled the x-label with ax1\n",
    "# ax2.plot(x, accuracy_list, color=color)\n",
    "ax2.tick_params(axis='y', labelcolor=color)\n",
    "ax2.set_ylim(bottom=0, top=1.0)\n",
    "\n",
    "# Add some text for labels, title and custom x-axis tick labels, etc.\n",
    "ax.set_ylabel('RunTime (s)', color = \"blue\")\n",
    "ax.set_title('RunTime & Accuracy on Phishing')\n",
    "ax.set_xticks(x)\n",
    "ax.set_xticklabels(labels)\n",
    "ax.grid(color='gray', linestyle='-', linewidth=0.1)\n",
    "\n",
    "fig.tight_layout()"
   ]
  },
  {
   "cell_type": "code",
   "execution_count": null,
   "id": "diagnostic-moment",
   "metadata": {},
   "outputs": [],
   "source": []
  }
 ],
 "metadata": {
  "kernelspec": {
   "display_name": "Python [conda env:CS6476] *",
   "language": "python",
   "name": "conda-env-CS6476-py"
  },
  "language_info": {
   "codemirror_mode": {
    "name": "ipython",
    "version": 3
   },
   "file_extension": ".py",
   "mimetype": "text/x-python",
   "name": "python",
   "nbconvert_exporter": "python",
   "pygments_lexer": "ipython3",
   "version": "3.7.7"
  }
 },
 "nbformat": 4,
 "nbformat_minor": 5
}
